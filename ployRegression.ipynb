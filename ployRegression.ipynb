{
 "cells": [
  {
   "cell_type": "code",
   "execution_count": 117,
   "metadata": {},
   "outputs": [],
   "source": [
    "import numpy as np\n",
    "import pandas as pd\n",
    "from matplotlib import pyplot as plt"
   ]
  },
  {
   "cell_type": "code",
   "execution_count": 122,
   "metadata": {},
   "outputs": [
    {
     "data": {
      "text/html": [
       "<div>\n",
       "<style scoped>\n",
       "    .dataframe tbody tr th:only-of-type {\n",
       "        vertical-align: middle;\n",
       "    }\n",
       "\n",
       "    .dataframe tbody tr th {\n",
       "        vertical-align: top;\n",
       "    }\n",
       "\n",
       "    .dataframe thead th {\n",
       "        text-align: right;\n",
       "    }\n",
       "</style>\n",
       "<table border=\"1\" class=\"dataframe\">\n",
       "  <thead>\n",
       "    <tr style=\"text-align: right;\">\n",
       "      <th></th>\n",
       "      <th>Level</th>\n",
       "      <th>Salary</th>\n",
       "    </tr>\n",
       "  </thead>\n",
       "  <tbody>\n",
       "    <tr>\n",
       "      <th>count</th>\n",
       "      <td>10.00000</td>\n",
       "      <td>10.000000</td>\n",
       "    </tr>\n",
       "    <tr>\n",
       "      <th>mean</th>\n",
       "      <td>5.50000</td>\n",
       "      <td>249500.000000</td>\n",
       "    </tr>\n",
       "    <tr>\n",
       "      <th>std</th>\n",
       "      <td>3.02765</td>\n",
       "      <td>299373.883668</td>\n",
       "    </tr>\n",
       "    <tr>\n",
       "      <th>min</th>\n",
       "      <td>1.00000</td>\n",
       "      <td>45000.000000</td>\n",
       "    </tr>\n",
       "    <tr>\n",
       "      <th>25%</th>\n",
       "      <td>3.25000</td>\n",
       "      <td>65000.000000</td>\n",
       "    </tr>\n",
       "    <tr>\n",
       "      <th>50%</th>\n",
       "      <td>5.50000</td>\n",
       "      <td>130000.000000</td>\n",
       "    </tr>\n",
       "    <tr>\n",
       "      <th>75%</th>\n",
       "      <td>7.75000</td>\n",
       "      <td>275000.000000</td>\n",
       "    </tr>\n",
       "    <tr>\n",
       "      <th>max</th>\n",
       "      <td>10.00000</td>\n",
       "      <td>1000000.000000</td>\n",
       "    </tr>\n",
       "  </tbody>\n",
       "</table>\n",
       "</div>"
      ],
      "text/plain": [
       "          Level          Salary\n",
       "count  10.00000       10.000000\n",
       "mean    5.50000   249500.000000\n",
       "std     3.02765   299373.883668\n",
       "min     1.00000    45000.000000\n",
       "25%     3.25000    65000.000000\n",
       "50%     5.50000   130000.000000\n",
       "75%     7.75000   275000.000000\n",
       "max    10.00000  1000000.000000"
      ]
     },
     "execution_count": 122,
     "metadata": {},
     "output_type": "execute_result"
    }
   ],
   "source": [
    "data = pd.read_csv('PositionSalaries_Data.csv')\n",
    "data.describe()"
   ]
  },
  {
   "cell_type": "code",
   "execution_count": 123,
   "metadata": {},
   "outputs": [
    {
     "name": "stdout",
     "output_type": "stream",
     "text": [
      "<class 'pandas.core.frame.DataFrame'>\n",
      "RangeIndex: 10 entries, 0 to 9\n",
      "Data columns (total 3 columns):\n",
      " #   Column    Non-Null Count  Dtype \n",
      "---  ------    --------------  ----- \n",
      " 0   Position  10 non-null     object\n",
      " 1   Level     10 non-null     int64 \n",
      " 2   Salary    10 non-null     int64 \n",
      "dtypes: int64(2), object(1)\n",
      "memory usage: 368.0+ bytes\n"
     ]
    }
   ],
   "source": [
    "data.info()"
   ]
  },
  {
   "cell_type": "code",
   "execution_count": 124,
   "metadata": {},
   "outputs": [
    {
     "data": {
      "text/html": [
       "<div>\n",
       "<style scoped>\n",
       "    .dataframe tbody tr th:only-of-type {\n",
       "        vertical-align: middle;\n",
       "    }\n",
       "\n",
       "    .dataframe tbody tr th {\n",
       "        vertical-align: top;\n",
       "    }\n",
       "\n",
       "    .dataframe thead th {\n",
       "        text-align: right;\n",
       "    }\n",
       "</style>\n",
       "<table border=\"1\" class=\"dataframe\">\n",
       "  <thead>\n",
       "    <tr style=\"text-align: right;\">\n",
       "      <th></th>\n",
       "      <th>Position</th>\n",
       "      <th>Level</th>\n",
       "      <th>Salary</th>\n",
       "    </tr>\n",
       "  </thead>\n",
       "  <tbody>\n",
       "    <tr>\n",
       "      <th>0</th>\n",
       "      <td>Business Analyst</td>\n",
       "      <td>1</td>\n",
       "      <td>45000</td>\n",
       "    </tr>\n",
       "    <tr>\n",
       "      <th>1</th>\n",
       "      <td>Junior Consultant</td>\n",
       "      <td>2</td>\n",
       "      <td>50000</td>\n",
       "    </tr>\n",
       "    <tr>\n",
       "      <th>2</th>\n",
       "      <td>Senior Consultant</td>\n",
       "      <td>3</td>\n",
       "      <td>60000</td>\n",
       "    </tr>\n",
       "    <tr>\n",
       "      <th>3</th>\n",
       "      <td>Manager</td>\n",
       "      <td>4</td>\n",
       "      <td>80000</td>\n",
       "    </tr>\n",
       "    <tr>\n",
       "      <th>4</th>\n",
       "      <td>Country Manager</td>\n",
       "      <td>5</td>\n",
       "      <td>110000</td>\n",
       "    </tr>\n",
       "  </tbody>\n",
       "</table>\n",
       "</div>"
      ],
      "text/plain": [
       "            Position  Level  Salary\n",
       "0   Business Analyst      1   45000\n",
       "1  Junior Consultant      2   50000\n",
       "2  Senior Consultant      3   60000\n",
       "3            Manager      4   80000\n",
       "4    Country Manager      5  110000"
      ]
     },
     "execution_count": 124,
     "metadata": {},
     "output_type": "execute_result"
    }
   ],
   "source": [
    "data.head()"
   ]
  },
  {
   "cell_type": "code",
   "execution_count": 125,
   "metadata": {},
   "outputs": [
    {
     "data": {
      "text/html": [
       "<div>\n",
       "<style scoped>\n",
       "    .dataframe tbody tr th:only-of-type {\n",
       "        vertical-align: middle;\n",
       "    }\n",
       "\n",
       "    .dataframe tbody tr th {\n",
       "        vertical-align: top;\n",
       "    }\n",
       "\n",
       "    .dataframe thead th {\n",
       "        text-align: right;\n",
       "    }\n",
       "</style>\n",
       "<table border=\"1\" class=\"dataframe\">\n",
       "  <thead>\n",
       "    <tr style=\"text-align: right;\">\n",
       "      <th></th>\n",
       "      <th>Position</th>\n",
       "      <th>Level</th>\n",
       "      <th>Salary</th>\n",
       "    </tr>\n",
       "  </thead>\n",
       "  <tbody>\n",
       "    <tr>\n",
       "      <th>0</th>\n",
       "      <td>Business Analyst</td>\n",
       "      <td>1</td>\n",
       "      <td>45000</td>\n",
       "    </tr>\n",
       "    <tr>\n",
       "      <th>1</th>\n",
       "      <td>Junior Consultant</td>\n",
       "      <td>2</td>\n",
       "      <td>50000</td>\n",
       "    </tr>\n",
       "    <tr>\n",
       "      <th>2</th>\n",
       "      <td>Senior Consultant</td>\n",
       "      <td>3</td>\n",
       "      <td>60000</td>\n",
       "    </tr>\n",
       "    <tr>\n",
       "      <th>3</th>\n",
       "      <td>Manager</td>\n",
       "      <td>4</td>\n",
       "      <td>80000</td>\n",
       "    </tr>\n",
       "    <tr>\n",
       "      <th>4</th>\n",
       "      <td>Country Manager</td>\n",
       "      <td>5</td>\n",
       "      <td>110000</td>\n",
       "    </tr>\n",
       "    <tr>\n",
       "      <th>5</th>\n",
       "      <td>Region Manager</td>\n",
       "      <td>6</td>\n",
       "      <td>150000</td>\n",
       "    </tr>\n",
       "    <tr>\n",
       "      <th>6</th>\n",
       "      <td>Partner</td>\n",
       "      <td>7</td>\n",
       "      <td>200000</td>\n",
       "    </tr>\n",
       "    <tr>\n",
       "      <th>7</th>\n",
       "      <td>Senior Partner</td>\n",
       "      <td>8</td>\n",
       "      <td>300000</td>\n",
       "    </tr>\n",
       "    <tr>\n",
       "      <th>8</th>\n",
       "      <td>C-level</td>\n",
       "      <td>9</td>\n",
       "      <td>500000</td>\n",
       "    </tr>\n",
       "    <tr>\n",
       "      <th>9</th>\n",
       "      <td>CEO</td>\n",
       "      <td>10</td>\n",
       "      <td>1000000</td>\n",
       "    </tr>\n",
       "  </tbody>\n",
       "</table>\n",
       "</div>"
      ],
      "text/plain": [
       "            Position  Level   Salary\n",
       "0   Business Analyst      1    45000\n",
       "1  Junior Consultant      2    50000\n",
       "2  Senior Consultant      3    60000\n",
       "3            Manager      4    80000\n",
       "4    Country Manager      5   110000\n",
       "5     Region Manager      6   150000\n",
       "6            Partner      7   200000\n",
       "7     Senior Partner      8   300000\n",
       "8            C-level      9   500000\n",
       "9                CEO     10  1000000"
      ]
     },
     "execution_count": 125,
     "metadata": {},
     "output_type": "execute_result"
    }
   ],
   "source": [
    "data"
   ]
  },
  {
   "cell_type": "code",
   "execution_count": 126,
   "metadata": {},
   "outputs": [
    {
     "data": {
      "text/plain": [
       "<matplotlib.collections.PathCollection at 0x20ba3269fa0>"
      ]
     },
     "execution_count": 126,
     "metadata": {},
     "output_type": "execute_result"
    },
    {
     "data": {
      "image/png": "[encoded data removed]",
      "text/plain": [
       "<Figure size 432x288 with 1 Axes>"
      ]
     },
     "metadata": {
      "needs_background": "light"
     },
     "output_type": "display_data"
    }
   ],
   "source": [
    "plt.scatter(data.iloc[:,1], data.iloc[:,2])"
   ]
  },
  {
   "cell_type": "code",
   "execution_count": 133,
   "metadata": {},
   "outputs": [],
   "source": [
    "def poly(x, degree):\n",
    "    n,m = x.shape\n",
    "    res = np.empty((n,m*degree+1))\n",
    "    res[:,0] = np.ones(n)\n",
    "    for i in range(1,degree+1):\n",
    "        for j in range(m):\n",
    "            res[:,(i-1)*m+j+1] = np.power(x[:,j],i)\n",
    "    return res\n",
    "\n",
    "# test = np.array([[2,4],[3,6]])\n",
    "# test_poly = poly(test,5)\n",
    "# test_poly.shape"
   ]
  },
  {
   "cell_type": "code",
   "execution_count": null,
   "metadata": {},
   "outputs": [],
   "source": []
  },
  {
   "cell_type": "code",
   "execution_count": 134,
   "metadata": {},
   "outputs": [
    {
     "data": {
      "text/plain": [
       "array([[0.        ],\n",
       "       [0.0052356 ],\n",
       "       [0.01570681],\n",
       "       [0.03664921],\n",
       "       [0.06806283],\n",
       "       [0.10994764],\n",
       "       [0.16230366],\n",
       "       [0.26701571],\n",
       "       [0.47643979],\n",
       "       [1.        ]])"
      ]
     },
     "execution_count": 134,
     "metadata": {},
     "output_type": "execute_result"
    }
   ],
   "source": [
    "x = data.iloc[:,1:2].values\n",
    "y = data.iloc[:,-1].values\n",
    "y = y.reshape(-1,1)\n",
    "x_poly1 = poly(x,1)\n",
    "x_poly2 = poly(x,2)\n",
    "x_poly3 = poly(x,3)\n",
    "y_std = (y-y.min())/(y.max()-y.min())\n",
    "y_std"
   ]
  },
  {
   "cell_type": "code",
   "execution_count": 151,
   "metadata": {},
   "outputs": [],
   "source": [
    "def gradient_descent(x, y, epochs, alpha, eps=0.001):\n",
    "    w = np.random.randn(x.shape[1],1)\n",
    "    epoch = 1\n",
    "    loss_history = []\n",
    "    while True:\n",
    "        y_hat = np.dot(x,w)  # Xw ==> X@w\n",
    "        error = y_hat-y\n",
    "        loss = (1.0/x.shape[0])*error.T@error # MSE(loss) => 1/(n)*(y_hat-y).T@(y_hat-y)\n",
    "        loss_history.append(loss[0][0])\n",
    "        w -= 2*alpha*x.T@error  # w -= alpha*X.T(Xw-y)\n",
    "        if epoch%100000 == 0:\n",
    "            print(f'Epoch [{epoch}/{epochs}]: loss = {loss}')\n",
    "        if epoch>epochs or loss_history[-1]<eps:\n",
    "            break\n",
    "        epoch += 1  \n",
    "    return w, loss_history"
   ]
  },
  {
   "cell_type": "code",
   "execution_count": 152,
   "metadata": {},
   "outputs": [
    {
     "name": "stdout",
     "output_type": "stream",
     "text": [
      "Epoch [100000/10000000]: loss = [[0.73346248]]\n",
      "Epoch [200000/10000000]: loss = [[0.59505685]]\n",
      "Epoch [300000/10000000]: loss = [[0.48296234]]\n",
      "Epoch [400000/10000000]: loss = [[0.39217623]]\n",
      "Epoch [500000/10000000]: loss = [[0.31864702]]\n",
      "Epoch [600000/10000000]: loss = [[0.25909353]]\n",
      "Epoch [700000/10000000]: loss = [[0.2108585]]\n",
      "Epoch [800000/10000000]: loss = [[0.17178987]]\n",
      "Epoch [900000/10000000]: loss = [[0.14014481]]\n",
      "Epoch [1000000/10000000]: loss = [[0.11451184]]\n",
      "Epoch [1100000/10000000]: loss = [[0.09374786]]\n",
      "Epoch [1200000/10000000]: loss = [[0.07692713]]\n",
      "Epoch [1300000/10000000]: loss = [[0.06329992]]\n",
      "Epoch [1400000/10000000]: loss = [[0.05225905]]\n",
      "Epoch [1500000/10000000]: loss = [[0.0433128]]\n",
      "Epoch [1600000/10000000]: loss = [[0.03606292]]\n",
      "Epoch [1700000/10000000]: loss = [[0.0301869]]\n",
      "Epoch [1800000/10000000]: loss = [[0.02542355]]\n",
      "Epoch [1900000/10000000]: loss = [[0.02156135]]\n",
      "Epoch [2000000/10000000]: loss = [[0.01842898]]\n",
      "Epoch [2100000/10000000]: loss = [[0.0158877]]\n",
      "Epoch [2200000/10000000]: loss = [[0.01382515]]\n",
      "Epoch [2300000/10000000]: loss = [[0.01215035]]\n",
      "Epoch [2400000/10000000]: loss = [[0.01078959]]\n",
      "Epoch [2500000/10000000]: loss = [[0.0096832]]\n",
      "Epoch [2600000/10000000]: loss = [[0.00878284]]\n",
      "Epoch [2700000/10000000]: loss = [[0.00804936]]\n",
      "Epoch [2800000/10000000]: loss = [[0.00745107]]\n",
      "Epoch [2900000/10000000]: loss = [[0.00696229]]\n",
      "Epoch [3000000/10000000]: loss = [[0.00656223]]\n",
      "Epoch [3100000/10000000]: loss = [[0.00623404]]\n",
      "Epoch [3200000/10000000]: loss = [[0.00596409]]\n",
      "Epoch [3300000/10000000]: loss = [[0.00574134]]\n",
      "Epoch [3400000/10000000]: loss = [[0.00555684]]\n",
      "Epoch [3500000/10000000]: loss = [[0.00540334]]\n",
      "Epoch [3600000/10000000]: loss = [[0.00527498]]\n",
      "Epoch [3700000/10000000]: loss = [[0.00516701]]\n",
      "Epoch [3800000/10000000]: loss = [[0.00507558]]\n",
      "Epoch [3900000/10000000]: loss = [[0.00499757]]\n",
      "Epoch [4000000/10000000]: loss = [[0.00493045]]\n",
      "Epoch [4100000/10000000]: loss = [[0.00487218]]\n",
      "Epoch [4200000/10000000]: loss = [[0.00482111]]\n",
      "Epoch [4300000/10000000]: loss = [[0.0047759]]\n",
      "Epoch [4400000/10000000]: loss = [[0.00473545]]\n",
      "Epoch [4500000/10000000]: loss = [[0.00469889]]\n",
      "Epoch [4600000/10000000]: loss = [[0.00466551]]\n",
      "Epoch [4700000/10000000]: loss = [[0.00463472]]\n",
      "Epoch [4800000/10000000]: loss = [[0.00460606]]\n",
      "Epoch [4900000/10000000]: loss = [[0.00457915]]\n",
      "Epoch [5000000/10000000]: loss = [[0.00455368]]\n",
      "Epoch [5100000/10000000]: loss = [[0.00452941]]\n",
      "Epoch [5200000/10000000]: loss = [[0.00450613]]\n",
      "Epoch [5300000/10000000]: loss = [[0.00448368]]\n",
      "Epoch [5400000/10000000]: loss = [[0.00446192]]\n",
      "Epoch [5500000/10000000]: loss = [[0.00444075]]\n",
      "Epoch [5600000/10000000]: loss = [[0.00442008]]\n",
      "Epoch [5700000/10000000]: loss = [[0.00439985]]\n",
      "Epoch [5800000/10000000]: loss = [[0.00437998]]\n",
      "Epoch [5900000/10000000]: loss = [[0.00436044]]\n",
      "Epoch [6000000/10000000]: loss = [[0.00434118]]\n",
      "Epoch [6100000/10000000]: loss = [[0.00432219]]\n",
      "Epoch [6200000/10000000]: loss = [[0.00430342]]\n",
      "Epoch [6300000/10000000]: loss = [[0.00428486]]\n",
      "Epoch [6400000/10000000]: loss = [[0.0042665]]\n",
      "Epoch [6500000/10000000]: loss = [[0.00424832]]\n",
      "Epoch [6600000/10000000]: loss = [[0.00423031]]\n",
      "Epoch [6700000/10000000]: loss = [[0.00421245]]\n",
      "Epoch [6800000/10000000]: loss = [[0.00419475]]\n",
      "Epoch [6900000/10000000]: loss = [[0.00417719]]\n",
      "Epoch [7000000/10000000]: loss = [[0.00415977]]\n",
      "Epoch [7100000/10000000]: loss = [[0.00414248]]\n",
      "Epoch [7200000/10000000]: loss = [[0.00412533]]\n",
      "Epoch [7300000/10000000]: loss = [[0.00410831]]\n",
      "Epoch [7400000/10000000]: loss = [[0.00409141]]\n",
      "Epoch [7500000/10000000]: loss = [[0.00407463]]\n",
      "Epoch [7600000/10000000]: loss = [[0.00405797]]\n",
      "Epoch [7700000/10000000]: loss = [[0.00404144]]\n",
      "Epoch [7800000/10000000]: loss = [[0.00402502]]\n",
      "Epoch [7900000/10000000]: loss = [[0.00400872]]\n",
      "Epoch [8000000/10000000]: loss = [[0.00399253]]\n",
      "Epoch [8100000/10000000]: loss = [[0.00397645]]\n",
      "Epoch [8200000/10000000]: loss = [[0.00396049]]\n",
      "Epoch [8300000/10000000]: loss = [[0.00394464]]\n",
      "Epoch [8400000/10000000]: loss = [[0.0039289]]\n",
      "Epoch [8500000/10000000]: loss = [[0.00391326]]\n",
      "Epoch [8600000/10000000]: loss = [[0.00389774]]\n",
      "Epoch [8700000/10000000]: loss = [[0.00388232]]\n",
      "Epoch [8800000/10000000]: loss = [[0.00386701]]\n",
      "Epoch [8900000/10000000]: loss = [[0.00385181]]\n",
      "Epoch [9000000/10000000]: loss = [[0.00383671]]\n",
      "Epoch [9100000/10000000]: loss = [[0.00382172]]\n",
      "Epoch [9200000/10000000]: loss = [[0.00380683]]\n",
      "Epoch [9300000/10000000]: loss = [[0.00379204]]\n",
      "Epoch [9400000/10000000]: loss = [[0.00377735]]\n",
      "Epoch [9500000/10000000]: loss = [[0.00376277]]\n",
      "Epoch [9600000/10000000]: loss = [[0.00374829]]\n",
      "Epoch [9700000/10000000]: loss = [[0.0037339]]\n",
      "Epoch [9800000/10000000]: loss = [[0.00371962]]\n",
      "Epoch [9900000/10000000]: loss = [[0.00370543]]\n",
      "Epoch [10000000/10000000]: loss = [[0.00369134]]\n"
     ]
    },
    {
     "data": {
      "text/plain": [
       "[<matplotlib.lines.Line2D at 0x20ba1b24190>]"
      ]
     },
     "execution_count": 152,
     "metadata": {},
     "output_type": "execute_result"
    },
    {
     "data": {
      "image/png": "[encoded data removed]",
      "text/plain": [
       "<Figure size 432x288 with 1 Axes>"
      ]
     },
     "metadata": {
      "needs_background": "light"
     },
     "output_type": "display_data"
    }
   ],
   "source": [
    "w, losses = gradient_descent(x_poly3,y_std,10000000,0.0000001)\n",
    "# w\n",
    "xx = np.linspace(x.min()-1, x.max()+1,100).reshape(-1,1)\n",
    "xx_poly = poly(xx,3)\n",
    "yy = np.dot(xx_poly,w)\n",
    "plt.scatter(x,y_std)\n",
    "plt.plot(xx,yy)\n"
   ]
  },
  {
   "cell_type": "code",
   "execution_count": 153,
   "metadata": {},
   "outputs": [
    {
     "data": {
      "text/plain": [
       "array([[ 0.09980567],\n",
       "       [-0.01266681],\n",
       "       [-0.01160564],\n",
       "       [ 0.00210097]])"
      ]
     },
     "execution_count": 153,
     "metadata": {},
     "output_type": "execute_result"
    }
   ],
   "source": [
    "w"
   ]
  },
  {
   "cell_type": "code",
   "execution_count": null,
   "metadata": {},
   "outputs": [],
   "source": []
  }
 ],
 "metadata": {
  "interpreter": {
   "hash": "11938c6bc6919ae2720b4d5011047913343b08a43b18698fd82dedb0d4417594"
  },
  "kernelspec": {
   "display_name": "Python 3.9.6 64-bit",
   "language": "python",
   "name": "python3"
  },
  "language_info": {
   "codemirror_mode": {
    "name": "ipython",
    "version": 3
   },
   "file_extension": ".py",
   "mimetype": "text/x-python",
   "name": "python",
   "nbconvert_exporter": "python",
   "pygments_lexer": "ipython3",
   "version": "3.9.6"
  },
  "orig_nbformat": 4
 },
 "nbformat": 4,
 "nbformat_minor": 2
}

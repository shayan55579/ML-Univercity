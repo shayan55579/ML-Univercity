{
 "cells": [
  {
   "cell_type": "code",
   "execution_count": 2,
   "metadata": {},
   "outputs": [],
   "source": [
    "import numpy as np\n",
    "import pandas as pd\n",
    "from torch import nn, optim #adam,gcd\n",
    "import torch.nn.functional as F\n",
    "import torch.utils.data as data\n",
    "import torch\n",
    "import torchvision.datasets as datasets\n",
    "import torchvision.transforms as transforms\n",
    "from sklearn.model_selection import train_test_split"
   ]
  },
  {
   "cell_type": "code",
   "execution_count": 3,
   "metadata": {},
   "outputs": [
    {
     "name": "stdout",
     "output_type": "stream",
     "text": [
      "(974, 111)\n",
      "(974,)\n",
      "[['TCGA-3C-AALI' '2014-7-28' nan ... '[Not Available]' '3C' 'Breast']\n",
      " ['TCGA-3C-AALJ' '2014-7-28' 'NO' ... '[Not Available]' '3C' 'Breast']\n",
      " ['TCGA-3C-AALK' '2014-7-28' 'NO' ... '[Not Available]' '3C' 'Breast']\n",
      " ...\n",
      " ['TCGA-XX-A89A' '2014-2-21' 'NO' ... '[Not Available]' 'XX' 'Breast']\n",
      " ['TCGA-Z7-A8R5' '2014-7-9' 'NO' ... '[Not Available]' 'Z7' 'Breast']\n",
      " ['TCGA-Z7-A8R6' '2014-7-9' 'NO' ... '[Not Available]' 'Z7' 'Breast']]\n"
     ]
    }
   ],
   "source": [
    "data = pd.read_csv('clinical_with_header.csv')\n",
    "x = data.iloc[:,1:].values\n",
    "y = data.iloc[:,0].values\n",
    "print(x.shape)\n",
    "print(y.shape)\n",
    "print(x)\n"
   ]
  },
  {
   "cell_type": "code",
   "execution_count": 4,
   "metadata": {},
   "outputs": [
    {
     "data": {
      "text/html": [
       "<div>\n",
       "<style scoped>\n",
       "    .dataframe tbody tr th:only-of-type {\n",
       "        vertical-align: middle;\n",
       "    }\n",
       "\n",
       "    .dataframe tbody tr th {\n",
       "        vertical-align: top;\n",
       "    }\n",
       "\n",
       "    .dataframe thead th {\n",
       "        text-align: right;\n",
       "    }\n",
       "</style>\n",
       "<table border=\"1\" class=\"dataframe\">\n",
       "  <thead>\n",
       "    <tr style=\"text-align: right;\">\n",
       "      <th></th>\n",
       "      <th>gender</th>\n",
       "    </tr>\n",
       "  </thead>\n",
       "  <tbody>\n",
       "    <tr>\n",
       "      <th>0</th>\n",
       "      <td>FEMALE</td>\n",
       "    </tr>\n",
       "    <tr>\n",
       "      <th>1</th>\n",
       "      <td>FEMALE</td>\n",
       "    </tr>\n",
       "    <tr>\n",
       "      <th>2</th>\n",
       "      <td>FEMALE</td>\n",
       "    </tr>\n",
       "    <tr>\n",
       "      <th>3</th>\n",
       "      <td>FEMALE</td>\n",
       "    </tr>\n",
       "    <tr>\n",
       "      <th>4</th>\n",
       "      <td>FEMALE</td>\n",
       "    </tr>\n",
       "    <tr>\n",
       "      <th>...</th>\n",
       "      <td>...</td>\n",
       "    </tr>\n",
       "    <tr>\n",
       "      <th>969</th>\n",
       "      <td>FEMALE</td>\n",
       "    </tr>\n",
       "    <tr>\n",
       "      <th>970</th>\n",
       "      <td>FEMALE</td>\n",
       "    </tr>\n",
       "    <tr>\n",
       "      <th>971</th>\n",
       "      <td>FEMALE</td>\n",
       "    </tr>\n",
       "    <tr>\n",
       "      <th>972</th>\n",
       "      <td>FEMALE</td>\n",
       "    </tr>\n",
       "    <tr>\n",
       "      <th>973</th>\n",
       "      <td>FEMALE</td>\n",
       "    </tr>\n",
       "  </tbody>\n",
       "</table>\n",
       "<p>974 rows × 1 columns</p>\n",
       "</div>"
      ],
      "text/plain": [
       "     gender\n",
       "0    FEMALE\n",
       "1    FEMALE\n",
       "2    FEMALE\n",
       "3    FEMALE\n",
       "4    FEMALE\n",
       "..      ...\n",
       "969  FEMALE\n",
       "970  FEMALE\n",
       "971  FEMALE\n",
       "972  FEMALE\n",
       "973  FEMALE\n",
       "\n",
       "[974 rows x 1 columns]"
      ]
     },
     "execution_count": 4,
     "metadata": {},
     "output_type": "execute_result"
    }
   ],
   "source": [
    "gender = data['gender']\n",
    "d = pd.DataFrame(gender)\n",
    "d"
   ]
  },
  {
   "cell_type": "code",
   "execution_count": null,
   "metadata": {},
   "outputs": [],
   "source": []
  },
  {
   "cell_type": "code",
   "execution_count": 5,
   "metadata": {},
   "outputs": [],
   "source": [
    "def load_clinical(patients):\n",
    "        threshold = 365\n",
    "        binary = {}\n",
    "        death = {}\n",
    "        times = {}\n",
    "        clinical_df = patients\n",
    "        itr = 0\n",
    "        for pid in patients.index:\n",
    "            itr += 1\n",
    "            # assert pid not in clinical_df.index, f\"Invalid Patient ID <{pid}>\"\n",
    "            curr_status = clinical_df.loc[pid]['vital_status']\n",
    "            num_days = 0\n",
    "            if curr_status == 'Alive':\n",
    "                num_days = clinical_df.loc[pid]['last_contact_days_to']\n",
    "                if num_days in ['[Discrepancy]', '[Not Available]'] :\n",
    "                    continue\n",
    "                death[pid] = 0\n",
    "                times[pid] = num_days\n",
    "                binary[pid] = 1*(int(num_days) > threshold)\n",
    "            elif curr_status == 'Dead':\n",
    "                num_days = clinical_df.loc[pid]['death_days_to']\n",
    "                if num_days == '[Not Available]':\n",
    "                    continue\n",
    "                death[pid] = 1\n",
    "                times[pid] = num_days\n",
    "                binary[pid] = 1*(int(num_days) > threshold)\n",
    "            else:\n",
    "                print(pid)\n",
    "                \n",
    "        labels = []\n",
    "        for idx in death.keys():\n",
    "            labels.append(tuple((bool(int(death[idx])), int(times[idx]))))\n",
    "        dt1=np.dtype(('bool,float'))\n",
    "        labels = np.array(labels, dtype=dt1)\n",
    "\n",
    "        # print(list(binary.values()))\n",
    "        return np.array(list(binary.values())), np.array(death), np.array(times), np.array(labels)"
   ]
  },
  {
   "cell_type": "code",
   "execution_count": 6,
   "metadata": {},
   "outputs": [
    {
     "name": "stdout",
     "output_type": "stream",
     "text": [
      "(974,)\n"
     ]
    }
   ],
   "source": [
    "y = load_clinical(data)\n",
    "print(y[0].shape)\n"
   ]
  },
  {
   "cell_type": "code",
   "execution_count": 9,
   "metadata": {},
   "outputs": [
    {
     "name": "stdout",
     "output_type": "stream",
     "text": [
      "torch.Size([640, 1])\n",
      "torch.Size([160, 1])\n",
      "torch.Size([640, 1])\n",
      "torch.Size([160, 1])\n"
     ]
    }
   ],
   "source": [
    "X_train,X_test,y_train,y_test = train_test_split(x,y,test_size=0.2,random_state=42)\n",
    "print(X_train.shape)\n",
    "print(X_test.shape)\n",
    "print(y_train.shape)\n",
    "print(y_test.shape)\n"
   ]
  },
  {
   "cell_type": "code",
   "execution_count": 7,
   "metadata": {},
   "outputs": [],
   "source": [
    "class FullyConnected(nn.Module):\n",
    "        def __init__(self, in_dim=1, hiddens = [8], out_dim=1) -> None:\n",
    "            super(FullyConnected, self).__init__()\n",
    "            self.layers = None\n",
    "            if len(hiddens)>0:\n",
    "                self.layers = nn.Sequential(\n",
    "                    nn.Linear(in_features=in_dim, out_features=hiddens[0]),\n",
    "                    nn.ReLU()\n",
    "                )\n",
    "                \n",
    "                for i in range(1, len(hiddens)):\n",
    "                    self.layers.add_module(f\"fc{i}\", nn.Linear(in_features=hiddens[i-1], out_features=hiddens[i]))\n",
    "                    self.layers.add_module(f\"relu{i}\", nn.ReLU())\n",
    "            self.out = nn.Linear(in_features=hiddens[-1], out_features=out_dim)\n",
    "            self.out.weight.data.zero_()\n",
    "            self.out.bias.data.zero_()\n",
    "        def forward(self, x):\n",
    "            if self.layers is not None:\n",
    "                x = self.layers(x)\n",
    "            x = self.out(x)\n",
    "            return x\n",
    "\n",
    "\n",
    "                        \n",
    "\n"
   ]
  },
  {
   "cell_type": "code",
   "execution_count": 12,
   "metadata": {},
   "outputs": [
    {
     "name": "stdout",
     "output_type": "stream",
     "text": [
      "cpu\n"
     ]
    },
    {
     "ename": "RuntimeError",
     "evalue": "size mismatch, got 20, 20x1,1000",
     "output_type": "error",
     "traceback": [
      "\u001b[1;31m---------------------------------------------------------------------------\u001b[0m",
      "\u001b[1;31mRuntimeError\u001b[0m                              Traceback (most recent call last)",
      "\u001b[1;32m~\\AppData\\Local\\Temp/ipykernel_30284/1189660421.py\u001b[0m in \u001b[0;36m<module>\u001b[1;34m\u001b[0m\n\u001b[0;32m     78\u001b[0m     \u001b[1;32mfor\u001b[0m \u001b[0mepoch\u001b[0m \u001b[1;32min\u001b[0m \u001b[0mrange\u001b[0m\u001b[1;33m(\u001b[0m\u001b[1;36m1\u001b[0m\u001b[1;33m,\u001b[0m \u001b[0mepochs\u001b[0m\u001b[1;33m+\u001b[0m\u001b[1;36m1\u001b[0m\u001b[1;33m)\u001b[0m\u001b[1;33m:\u001b[0m\u001b[1;33m\u001b[0m\u001b[1;33m\u001b[0m\u001b[0m\n\u001b[0;32m     79\u001b[0m         \u001b[1;31m# print(f'\\r Epoch [{epoch}/{epochs}] ', end='')\u001b[0m\u001b[1;33m\u001b[0m\u001b[1;33m\u001b[0m\u001b[1;33m\u001b[0m\u001b[0m\n\u001b[1;32m---> 80\u001b[1;33m         \u001b[0my_hat\u001b[0m \u001b[1;33m=\u001b[0m \u001b[0mmyNetword\u001b[0m\u001b[1;33m(\u001b[0m\u001b[0mx\u001b[0m\u001b[1;33m)\u001b[0m\u001b[1;33m\u001b[0m\u001b[1;33m\u001b[0m\u001b[0m\n\u001b[0m\u001b[0;32m     81\u001b[0m         \u001b[0merror\u001b[0m \u001b[1;33m=\u001b[0m \u001b[0mloss\u001b[0m\u001b[1;33m(\u001b[0m\u001b[0my_hat\u001b[0m\u001b[1;33m,\u001b[0m \u001b[0my\u001b[0m\u001b[1;33m)\u001b[0m\u001b[1;33m\u001b[0m\u001b[1;33m\u001b[0m\u001b[0m\n\u001b[0;32m     82\u001b[0m         \u001b[0mlosses\u001b[0m\u001b[1;33m.\u001b[0m\u001b[0mappend\u001b[0m\u001b[1;33m(\u001b[0m\u001b[0merror\u001b[0m\u001b[1;33m.\u001b[0m\u001b[0mitem\u001b[0m\u001b[1;33m(\u001b[0m\u001b[1;33m)\u001b[0m\u001b[1;33m)\u001b[0m\u001b[1;33m\u001b[0m\u001b[1;33m\u001b[0m\u001b[0m\n",
      "\u001b[1;32m~\\AppData\\Roaming\\Python\\Python39\\site-packages\\torch\\nn\\modules\\module.py\u001b[0m in \u001b[0;36m_call_impl\u001b[1;34m(self, *input, **kwargs)\u001b[0m\n\u001b[0;32m   1128\u001b[0m         if not (self._backward_hooks or self._forward_hooks or self._forward_pre_hooks or _global_backward_hooks\n\u001b[0;32m   1129\u001b[0m                 or _global_forward_hooks or _global_forward_pre_hooks):\n\u001b[1;32m-> 1130\u001b[1;33m             \u001b[1;32mreturn\u001b[0m \u001b[0mforward_call\u001b[0m\u001b[1;33m(\u001b[0m\u001b[1;33m*\u001b[0m\u001b[0minput\u001b[0m\u001b[1;33m,\u001b[0m \u001b[1;33m**\u001b[0m\u001b[0mkwargs\u001b[0m\u001b[1;33m)\u001b[0m\u001b[1;33m\u001b[0m\u001b[1;33m\u001b[0m\u001b[0m\n\u001b[0m\u001b[0;32m   1131\u001b[0m         \u001b[1;31m# Do not call functions when jit is used\u001b[0m\u001b[1;33m\u001b[0m\u001b[1;33m\u001b[0m\u001b[1;33m\u001b[0m\u001b[0m\n\u001b[0;32m   1132\u001b[0m         \u001b[0mfull_backward_hooks\u001b[0m\u001b[1;33m,\u001b[0m \u001b[0mnon_full_backward_hooks\u001b[0m \u001b[1;33m=\u001b[0m \u001b[1;33m[\u001b[0m\u001b[1;33m]\u001b[0m\u001b[1;33m,\u001b[0m \u001b[1;33m[\u001b[0m\u001b[1;33m]\u001b[0m\u001b[1;33m\u001b[0m\u001b[1;33m\u001b[0m\u001b[0m\n",
      "\u001b[1;32m~\\AppData\\Local\\Temp/ipykernel_30284/1189660421.py\u001b[0m in \u001b[0;36mforward\u001b[1;34m(self, x)\u001b[0m\n\u001b[0;32m     40\u001b[0m         \u001b[1;31m# y_hat = self.ln(z_ln_1)\u001b[0m\u001b[1;33m\u001b[0m\u001b[1;33m\u001b[0m\u001b[1;33m\u001b[0m\u001b[0m\n\u001b[0;32m     41\u001b[0m         \u001b[1;31m# y_hat = self.relu(y_hat)\u001b[0m\u001b[1;33m\u001b[0m\u001b[1;33m\u001b[0m\u001b[1;33m\u001b[0m\u001b[0m\n\u001b[1;32m---> 42\u001b[1;33m         \u001b[0my_hat\u001b[0m \u001b[1;33m=\u001b[0m \u001b[0mself\u001b[0m\u001b[1;33m.\u001b[0m\u001b[0mlayers\u001b[0m\u001b[1;33m(\u001b[0m\u001b[0mx\u001b[0m\u001b[1;33m)\u001b[0m\u001b[1;33m\u001b[0m\u001b[1;33m\u001b[0m\u001b[0m\n\u001b[0m\u001b[0;32m     43\u001b[0m         \u001b[1;32mreturn\u001b[0m \u001b[0my_hat\u001b[0m\u001b[1;33m\u001b[0m\u001b[1;33m\u001b[0m\u001b[0m\n\u001b[0;32m     44\u001b[0m \u001b[1;33m\u001b[0m\u001b[0m\n",
      "\u001b[1;32m~\\AppData\\Roaming\\Python\\Python39\\site-packages\\torch\\nn\\modules\\module.py\u001b[0m in \u001b[0;36m_call_impl\u001b[1;34m(self, *input, **kwargs)\u001b[0m\n\u001b[0;32m   1128\u001b[0m         if not (self._backward_hooks or self._forward_hooks or self._forward_pre_hooks or _global_backward_hooks\n\u001b[0;32m   1129\u001b[0m                 or _global_forward_hooks or _global_forward_pre_hooks):\n\u001b[1;32m-> 1130\u001b[1;33m             \u001b[1;32mreturn\u001b[0m \u001b[0mforward_call\u001b[0m\u001b[1;33m(\u001b[0m\u001b[1;33m*\u001b[0m\u001b[0minput\u001b[0m\u001b[1;33m,\u001b[0m \u001b[1;33m**\u001b[0m\u001b[0mkwargs\u001b[0m\u001b[1;33m)\u001b[0m\u001b[1;33m\u001b[0m\u001b[1;33m\u001b[0m\u001b[0m\n\u001b[0m\u001b[0;32m   1131\u001b[0m         \u001b[1;31m# Do not call functions when jit is used\u001b[0m\u001b[1;33m\u001b[0m\u001b[1;33m\u001b[0m\u001b[1;33m\u001b[0m\u001b[0m\n\u001b[0;32m   1132\u001b[0m         \u001b[0mfull_backward_hooks\u001b[0m\u001b[1;33m,\u001b[0m \u001b[0mnon_full_backward_hooks\u001b[0m \u001b[1;33m=\u001b[0m \u001b[1;33m[\u001b[0m\u001b[1;33m]\u001b[0m\u001b[1;33m,\u001b[0m \u001b[1;33m[\u001b[0m\u001b[1;33m]\u001b[0m\u001b[1;33m\u001b[0m\u001b[1;33m\u001b[0m\u001b[0m\n",
      "\u001b[1;32m~\\AppData\\Roaming\\Python\\Python39\\site-packages\\torch\\nn\\modules\\container.py\u001b[0m in \u001b[0;36mforward\u001b[1;34m(self, input)\u001b[0m\n\u001b[0;32m    137\u001b[0m     \u001b[1;32mdef\u001b[0m \u001b[0mforward\u001b[0m\u001b[1;33m(\u001b[0m\u001b[0mself\u001b[0m\u001b[1;33m,\u001b[0m \u001b[0minput\u001b[0m\u001b[1;33m)\u001b[0m\u001b[1;33m:\u001b[0m\u001b[1;33m\u001b[0m\u001b[1;33m\u001b[0m\u001b[0m\n\u001b[0;32m    138\u001b[0m         \u001b[1;32mfor\u001b[0m \u001b[0mmodule\u001b[0m \u001b[1;32min\u001b[0m \u001b[0mself\u001b[0m\u001b[1;33m:\u001b[0m\u001b[1;33m\u001b[0m\u001b[1;33m\u001b[0m\u001b[0m\n\u001b[1;32m--> 139\u001b[1;33m             \u001b[0minput\u001b[0m \u001b[1;33m=\u001b[0m \u001b[0mmodule\u001b[0m\u001b[1;33m(\u001b[0m\u001b[0minput\u001b[0m\u001b[1;33m)\u001b[0m\u001b[1;33m\u001b[0m\u001b[1;33m\u001b[0m\u001b[0m\n\u001b[0m\u001b[0;32m    140\u001b[0m         \u001b[1;32mreturn\u001b[0m \u001b[0minput\u001b[0m\u001b[1;33m\u001b[0m\u001b[1;33m\u001b[0m\u001b[0m\n\u001b[0;32m    141\u001b[0m \u001b[1;33m\u001b[0m\u001b[0m\n",
      "\u001b[1;32m~\\AppData\\Roaming\\Python\\Python39\\site-packages\\torch\\nn\\modules\\module.py\u001b[0m in \u001b[0;36m_call_impl\u001b[1;34m(self, *input, **kwargs)\u001b[0m\n\u001b[0;32m   1128\u001b[0m         if not (self._backward_hooks or self._forward_hooks or self._forward_pre_hooks or _global_backward_hooks\n\u001b[0;32m   1129\u001b[0m                 or _global_forward_hooks or _global_forward_pre_hooks):\n\u001b[1;32m-> 1130\u001b[1;33m             \u001b[1;32mreturn\u001b[0m \u001b[0mforward_call\u001b[0m\u001b[1;33m(\u001b[0m\u001b[1;33m*\u001b[0m\u001b[0minput\u001b[0m\u001b[1;33m,\u001b[0m \u001b[1;33m**\u001b[0m\u001b[0mkwargs\u001b[0m\u001b[1;33m)\u001b[0m\u001b[1;33m\u001b[0m\u001b[1;33m\u001b[0m\u001b[0m\n\u001b[0m\u001b[0;32m   1131\u001b[0m         \u001b[1;31m# Do not call functions when jit is used\u001b[0m\u001b[1;33m\u001b[0m\u001b[1;33m\u001b[0m\u001b[1;33m\u001b[0m\u001b[0m\n\u001b[0;32m   1132\u001b[0m         \u001b[0mfull_backward_hooks\u001b[0m\u001b[1;33m,\u001b[0m \u001b[0mnon_full_backward_hooks\u001b[0m \u001b[1;33m=\u001b[0m \u001b[1;33m[\u001b[0m\u001b[1;33m]\u001b[0m\u001b[1;33m,\u001b[0m \u001b[1;33m[\u001b[0m\u001b[1;33m]\u001b[0m\u001b[1;33m\u001b[0m\u001b[1;33m\u001b[0m\u001b[0m\n",
      "\u001b[1;32m~\\AppData\\Roaming\\Python\\Python39\\site-packages\\torch\\nn\\modules\\linear.py\u001b[0m in \u001b[0;36mforward\u001b[1;34m(self, input)\u001b[0m\n\u001b[0;32m    112\u001b[0m \u001b[1;33m\u001b[0m\u001b[0m\n\u001b[0;32m    113\u001b[0m     \u001b[1;32mdef\u001b[0m \u001b[0mforward\u001b[0m\u001b[1;33m(\u001b[0m\u001b[0mself\u001b[0m\u001b[1;33m,\u001b[0m \u001b[0minput\u001b[0m\u001b[1;33m:\u001b[0m \u001b[0mTensor\u001b[0m\u001b[1;33m)\u001b[0m \u001b[1;33m->\u001b[0m \u001b[0mTensor\u001b[0m\u001b[1;33m:\u001b[0m\u001b[1;33m\u001b[0m\u001b[1;33m\u001b[0m\u001b[0m\n\u001b[1;32m--> 114\u001b[1;33m         \u001b[1;32mreturn\u001b[0m \u001b[0mF\u001b[0m\u001b[1;33m.\u001b[0m\u001b[0mlinear\u001b[0m\u001b[1;33m(\u001b[0m\u001b[0minput\u001b[0m\u001b[1;33m,\u001b[0m \u001b[0mself\u001b[0m\u001b[1;33m.\u001b[0m\u001b[0mweight\u001b[0m\u001b[1;33m,\u001b[0m \u001b[0mself\u001b[0m\u001b[1;33m.\u001b[0m\u001b[0mbias\u001b[0m\u001b[1;33m)\u001b[0m\u001b[1;33m\u001b[0m\u001b[1;33m\u001b[0m\u001b[0m\n\u001b[0m\u001b[0;32m    115\u001b[0m \u001b[1;33m\u001b[0m\u001b[0m\n\u001b[0;32m    116\u001b[0m     \u001b[1;32mdef\u001b[0m \u001b[0mextra_repr\u001b[0m\u001b[1;33m(\u001b[0m\u001b[0mself\u001b[0m\u001b[1;33m)\u001b[0m \u001b[1;33m->\u001b[0m \u001b[0mstr\u001b[0m\u001b[1;33m:\u001b[0m\u001b[1;33m\u001b[0m\u001b[1;33m\u001b[0m\u001b[0m\n",
      "\u001b[1;31mRuntimeError\u001b[0m: size mismatch, got 20, 20x1,1000"
     ]
    }
   ],
   "source": [
    "from turtle import forward\n",
    "import matplotlib.pylab as plt\n",
    "import numpy as np\n",
    "from sklearn.model_selection import train_test_split\n",
    "import torch\n",
    "import torch.nn as nn\n",
    "from torch.optim import SGD, Adam\n",
    "from torchinfo import summary\n",
    "\n",
    "class FullyConnected(nn.Module):\n",
    "    def __init__(self, in_dim=1, hiddens = [8], out_dim=1) -> None:\n",
    "        super(FullyConnected, self).__init__()\n",
    "        self.layers = None\n",
    "        if len(hiddens)>0:\n",
    "            self.layers = nn.Sequential(\n",
    "                nn.Linear(in_features=in_dim, out_features=hiddens[0]),\n",
    "                nn.ReLU()\n",
    "            )\n",
    "            for i in range(1,len(hiddens)):\n",
    "                self.layers.add_module(f'H{i}',nn.Linear(hiddens[i-1], hiddens[i]))   \n",
    "                self.add_module('relu',nn.ReLU())\n",
    "            self.layers.add_module('Out',nn.Linear(hiddens[-1], out_dim))\n",
    "        else:\n",
    "            self.layers = nn.Sequential(\n",
    "                nn.Linear(in_features=in_dim, out_features=out_dim),\n",
    "                #nn.ReLU()\n",
    "            )\n",
    "        # self.l1 = nn.Linear(in_dim, hiddens[0])\n",
    "        # self.l2 = nn.Linear(hiddens[0], hiddens[1])\n",
    "        # #....\n",
    "        # self.ln = nn.Linear(hiddens[-1], out_dim)\n",
    "        # self.relu = nn.ReLU()\n",
    "        \n",
    "    def forward(self, x):\n",
    "        # z_l1 = self.l1(x)\n",
    "        # z_l1 = self.relu(z_l1)\n",
    "        # z_l2 = self.l2(z_l1)\n",
    "        # z_l2 = self.relu(z_l2)\n",
    "        # #....\n",
    "        # y_hat = self.ln(z_ln_1)\n",
    "        # y_hat = self.relu(y_hat)\n",
    "        y_hat = self.layers(x)\n",
    "        return y_hat\n",
    "\n",
    "if __name__ == '__main__':\n",
    "    import os \n",
    "    # os.environ[\"CUDA_VISIBLE_DEVICES\"]=\"-1\"\n",
    "    # torch.cuda.is_available = lambda : True\n",
    "    device = torch.device('cuda' if torch.cuda.is_available() else 'cpu')\n",
    "    import time\n",
    "    points = np.linspace(-np.pi, np.pi, 1000)\n",
    "    # y = np.sin(points)\n",
    "    y_noise = np.sin(points)+0.3*np.random.randn(1000)\n",
    "\n",
    "    data = np.c_[points.ravel(),y_noise.ravel()]\n",
    "    # X_train, X_test, y_train, y_test = train_test_split(points, y_noise, test_size=0.2, random_state=1)\n",
    "\n",
    "    # X_train = X_train.reshape(-1,1)\n",
    "    # y_train = y_train.reshape(-1,1)\n",
    "    # X_test = X_test.reshape(-1,1)\n",
    "    # y_test = y_test.reshape(-1,1)\n",
    "\n",
    "    epochs = 10000\n",
    "    lr = 0.001\n",
    "    batch_size = 100\n",
    "    myNetword = FullyConnected(1,[20],1).to(device)\n",
    "    summary(myNetword, (batch_size,1,1)) \n",
    "    loss = nn.MSELoss().to(device)\n",
    "    optim = SGD(myNetword.parameters(),lr=lr)\n",
    "    # x = torch.from_numpy(X_train).float().to(device)\n",
    "    # y = torch.from_numpy(y_train).float().to(device)\n",
    "    x = torch.from_numpy(data[:,0]).float().to(device)\n",
    "    y = torch.from_numpy(data[:,1]).float().to(device)\n",
    "    losses = []\n",
    "    best_loss = 10e20\n",
    "    print(device)\n",
    "    start = time.time()\n",
    "    for epoch in range(1, epochs+1):\n",
    "        # print(f'\\r Epoch [{epoch}/{epochs}] ', end='')\n",
    "        # y_hat = myNetword(x)\n",
    "\n",
    "        error = loss(y_hat, y)\n",
    "        losses.append(error.item())\n",
    "        optim.zero_grad()\n",
    "        error.backward()\n",
    "        optim.step()\n",
    "        #if error<best_loss:\n",
    "        #    torch.save(myNetword.state_dict(),'best_model.pt')\n",
    "        #    best_loss = error\n",
    "        #    # print('\\t Model saved.')\n",
    "        if epoch % 100 == 0:\n",
    "           print(f'\\rEpoch [{epoch}/{epochs}]: current loss->{error.item():0.5f}, '\n",
    "                 f'avg loss->{np.mean(losses):.5f}', end='')\n",
    "    print(f'\\nTotal time=> {time.time()-start} ')\n",
    "    plt.plot(list(range(len(losses))), losses)\n",
    "    plt.show()\n",
    "    x_plot = np.linspace(points.min(), points.max(), 1000)\n",
    "    y_plot = myNetword(torch.from_numpy(x_plot.reshape(-1,1)).float().to(device))\n",
    "    plt.figure()\n",
    "    plt.scatter(x.numpy(),y.numpy(),s=2.5)\n",
    "    plt.plot(x_plot,y_plot.detach().numpy())\n",
    "    plt.show()"
   ]
  },
  {
   "cell_type": "code",
   "execution_count": null,
   "metadata": {},
   "outputs": [],
   "source": []
  }
 ],
 "metadata": {
  "kernelspec": {
   "display_name": "Python 3.9.6 64-bit (system)",
   "language": "python",
   "name": "python3"
  },
  "language_info": {
   "codemirror_mode": {
    "name": "ipython",
    "version": 3
   },
   "file_extension": ".py",
   "mimetype": "text/x-python",
   "name": "python",
   "nbconvert_exporter": "python",
   "pygments_lexer": "ipython3",
   "version": "3.9.6"
  },
  "orig_nbformat": 4,
  "vscode": {
   "interpreter": {
    "hash": "11938c6bc6919ae2720b4d5011047913343b08a43b18698fd82dedb0d4417594"
   }
  }
 },
 "nbformat": 4,
 "nbformat_minor": 2
}

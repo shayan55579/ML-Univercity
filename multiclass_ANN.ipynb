{
 "cells": [
  {
   "cell_type": "code",
   "execution_count": 10,
   "metadata": {},
   "outputs": [
    {
     "data": {
      "text/plain": [
       "<torch.autograd.grad_mode.set_grad_enabled at 0x1ceb3b07a00>"
      ]
     },
     "execution_count": 10,
     "metadata": {},
     "output_type": "execute_result"
    }
   ],
   "source": [
    "# import standard PyTorch modules\n",
    "import torch\n",
    "import torch.nn as nn\n",
    "import torch.nn.functional as F #ReLU, LeakyReLU,...\n",
    "import torch.optim as optim # SGD, ADAM, ....\n",
    "# from torch.utils.tensorboard import SummaryWriter # TensorBoard support\n",
    "\n",
    "# import torchvision module to handle image manipulation\n",
    "import torchvision\n",
    "import torchvision.transforms as transforms\n",
    "\n",
    "from torchinfo import summary\n",
    "\n",
    "# calculate train time, writing train data to files etc.\n",
    "import time\n",
    "import pandas as pd\n",
    "import json\n",
    "from IPython.display import clear_output\n",
    "import matplotlib.pyplot as plt\n",
    "\n",
    "\n",
    "torch.set_printoptions(linewidth=120)\n",
    "torch.set_grad_enabled(True)     # On by default, leave it here for clarity"
   ]
  },
  {
   "cell_type": "code",
   "execution_count": 28,
   "metadata": {},
   "outputs": [],
   "source": [
    "# D:\\dataset\\pytorch\n",
    "# Use standard FashionMNIST dataset\n",
    "train_set = torchvision.datasets.FashionMNIST(\n",
    "    root = 'D:/dataset/pytorch/',\n",
    "    train = True,\n",
    "    download = True,\n",
    "    transform = transforms.Compose([\n",
    "        transforms.ToTensor()                                 \n",
    "    ])\n",
    ")\n",
    "test_set = torchvision.datasets.FashionMNIST(\n",
    "    root = 'D:/dataset/pytorch/',\n",
    "    train = False,\n",
    "    download = True,\n",
    "    transform = transforms.Compose([\n",
    "        transforms.ToTensor()                                 \n",
    "    ])\n",
    ")\n",
    "train_dl = torch.utils.data.DataLoader(train_set, batch_size=1024, shuffle=True)\n",
    "test_dl = torch.utils.data.DataLoader(test_set, batch_size=1024, shuffle=True)"
   ]
  },
  {
   "cell_type": "code",
   "execution_count": 20,
   "metadata": {},
   "outputs": [
    {
     "name": "stdout",
     "output_type": "stream",
     "text": [
      "Dataset size: Train => 60000, test => 10000\n"
     ]
    },
    {
     "data": {
      "text/plain": [
       "<matplotlib.image.AxesImage at 0x1ce8fc6c670>"
      ]
     },
     "execution_count": 20,
     "metadata": {},
     "output_type": "execute_result"
    },
    {
     "data": {
      "image/png": "[encoded data removed]",
      "text/plain": [
       "<Figure size 432x288 with 1 Axes>"
      ]
     },
     "metadata": {
      "needs_background": "light"
     },
     "output_type": "display_data"
    }
   ],
   "source": [
    "print(f'Dataset size: Train => {len(train_set)}, test => {len(test_set)}')\n",
    "import PIL\n",
    "img_t = transforms.ToPILImage()\n",
    "img = img_t(train_set[5467][0])\n",
    "plt.imshow(img,cmap=\"gray\")"
   ]
  },
  {
   "cell_type": "code",
   "execution_count": 21,
   "metadata": {},
   "outputs": [],
   "source": [
    "# Build the neural network, expand on top of nn.Module\n",
    "class Network(nn.Module):\n",
    "  def __init__(self):\n",
    "    super().__init__()\n",
    "\n",
    "    # define layers\n",
    "    self.input = nn.Flatten()# 28x28 -> 784\n",
    "    self.fc1 = nn.Linear(in_features=784, out_features=192)\n",
    "    self.fc2 = nn.Linear(in_features=192, out_features=120)\n",
    "    self.fc3 = nn.Linear(in_features=120, out_features=60)\n",
    "    self.out = nn.Linear(in_features=60, out_features=10)\n",
    "    self.relu = nn.ReLU()\n",
    "    self.softmax = nn.Softmax(dim=1)\n",
    "    # self.logsoftmax = nn.LogSoftmax(dim=1)\n",
    "\n",
    "  # define forward function\n",
    "  def forward(self, t):\n",
    "    t = self.relu(self.fc1(self.input(t)))\n",
    "    t = self.relu(self.fc2(t))\n",
    "    t = self.relu(self.fc3(t))\n",
    "    \n",
    "    # output\n",
    "    t = self.out(t)\n",
    "    t = self.softmax(t)\n",
    "    return t"
   ]
  },
  {
   "cell_type": "code",
   "execution_count": 22,
   "metadata": {},
   "outputs": [
    {
     "data": {
      "text/plain": [
       "==========================================================================================\n",
       "Layer (type:depth-idx)                   Output Shape              Param #\n",
       "==========================================================================================\n",
       "Network                                  --                        --\n",
       "├─Flatten: 1-1                           [64, 784]                 --\n",
       "├─Linear: 1-2                            [64, 192]                 150,720\n",
       "├─ReLU: 1-3                              [64, 192]                 --\n",
       "├─Linear: 1-4                            [64, 120]                 23,160\n",
       "├─ReLU: 1-5                              [64, 120]                 --\n",
       "├─Linear: 1-6                            [64, 60]                  7,260\n",
       "├─ReLU: 1-7                              [64, 60]                  --\n",
       "├─Linear: 1-8                            [64, 10]                  610\n",
       "├─Softmax: 1-9                           [64, 10]                  --\n",
       "==========================================================================================\n",
       "Total params: 181,750\n",
       "Trainable params: 181,750\n",
       "Non-trainable params: 0\n",
       "Total mult-adds (M): 11.63\n",
       "==========================================================================================\n",
       "Input size (MB): 0.20\n",
       "Forward/backward pass size (MB): 0.20\n",
       "Params size (MB): 0.73\n",
       "Estimated Total Size (MB): 1.12\n",
       "=========================================================================================="
      ]
     },
     "execution_count": 22,
     "metadata": {},
     "output_type": "execute_result"
    }
   ],
   "source": [
    "model = Network()\n",
    "summary(model, (64,1,28,28))"
   ]
  },
  {
   "cell_type": "code",
   "execution_count": 23,
   "metadata": {},
   "outputs": [],
   "source": [
    "# Use GPU if available\n",
    "device = 'cuda' if torch.cuda.is_available() else 'cpu'\n",
    "model = model.to(device)\n",
    "\n",
    "# define the criterion and optimizer\n",
    "loss_fn = nn.CrossEntropyLoss()\n",
    "# loss_fn = nn.NLLLoss()\n",
    "optimizer = optim.Adam(model.parameters(), lr=0.0007)\n",
    "# optimizer = optim.SGD(model.parameters(), lr=0.0007)"
   ]
  },
  {
   "cell_type": "code",
   "execution_count": 24,
   "metadata": {},
   "outputs": [
    {
     "data": {
      "text/plain": [
       "Network(\n",
       "  (input): Flatten(start_dim=1, end_dim=-1)\n",
       "  (fc1): Linear(in_features=784, out_features=192, bias=True)\n",
       "  (fc2): Linear(in_features=192, out_features=120, bias=True)\n",
       "  (fc3): Linear(in_features=120, out_features=60, bias=True)\n",
       "  (out): Linear(in_features=60, out_features=10, bias=True)\n",
       "  (relu): ReLU()\n",
       "  (softmax): Softmax(dim=1)\n",
       ")"
      ]
     },
     "execution_count": 24,
     "metadata": {},
     "output_type": "execute_result"
    }
   ],
   "source": [
    "model"
   ]
  },
  {
   "cell_type": "code",
   "execution_count": 25,
   "metadata": {},
   "outputs": [],
   "source": [
    "def train_test(model, loss_fn, optimizer, trainloader, testloader, device, n_epochs=25):\n",
    "    train_losses = []\n",
    "    test_losses = []\n",
    "    for epoch in range(n_epochs):\n",
    "        # Set mode to training - Dropouts will be used here\n",
    "        model.train()\n",
    "        train_epoch_loss = 0\n",
    "        for images, labels in trainloader:\n",
    "            images, labels = images.to(device), labels.to(device)\n",
    "            # forward pass\n",
    "            outputs = model(images)\n",
    "            # backpropogation\n",
    "            train_batch_loss = loss_fn(outputs, labels)\n",
    "            optimizer.zero_grad()\n",
    "            train_batch_loss.backward()\n",
    "            # Weight updates\n",
    "            optimizer.step()\n",
    "            train_epoch_loss += train_batch_loss.cpu().item()\n",
    "        else:\n",
    "            # One epoch of training complete\n",
    "            # calculate average training epoch loss\n",
    "            train_epoch_loss = train_epoch_loss/len(trainloader)\n",
    "\n",
    "            # Now Validate on testset\n",
    "            with torch.no_grad():\n",
    "                test_epoch_acc = 0\n",
    "                test_epoch_loss = 0\n",
    "                # Set mode to eval - Dropouts will NOT be used here\n",
    "                model.eval()\n",
    "                for images, labels in testloader:\n",
    "                    images, labels = images.to(device), labels.to(device)                    \n",
    "                    # make predictions \n",
    "                    proba = model(images)\n",
    "                    # print(proba)\n",
    "                    # exit(0)\n",
    "                    # calculate test loss\n",
    "                    test_batch_loss = loss_fn(proba, labels)\n",
    "                    test_epoch_loss += test_batch_loss.cpu().item()\n",
    "                    \n",
    "                    # get probabilities, extract the class associated with highest probability\n",
    "                    # proba = torch.exp(test_outputs)\n",
    "                    _, pred_labels = proba.topk(1, dim=1)\n",
    "                    \n",
    "                    # compare actual labels and predicted labels\n",
    "                    result = pred_labels == labels.view(pred_labels.shape)\n",
    "                    batch_acc = torch.mean(result.type(torch.FloatTensor))\n",
    "                    test_epoch_acc += batch_acc.cpu().item()\n",
    "                else:\n",
    "                    # One epoch of training and validation done\n",
    "                    # calculate average testing epoch loss\n",
    "                    test_epoch_loss = test_epoch_loss/len(testloader)\n",
    "                    # calculate accuracy as correct_pred/total_samples\n",
    "                    test_epoch_acc = test_epoch_acc/len(testloader)\n",
    "                    # save epoch losses for plotting\n",
    "                    train_losses.append(train_epoch_loss)\n",
    "                    test_losses.append(test_epoch_loss)\n",
    "                    # print stats for this epoch\n",
    "                    print(f'Epoch: {epoch} -> train_loss: {train_epoch_loss:.5f}, val_loss: {test_epoch_loss:.5f}, ',\n",
    "                          f'val_acc: {test_epoch_acc*100:.2f}%')\n",
    "    # Finally plot losses\n",
    "    plt.plot(train_losses, label='train-loss')\n",
    "    plt.plot(test_losses, label='val-loss')\n",
    "    plt.legend()\n",
    "    plt.show()"
   ]
  },
  {
   "cell_type": "code",
   "execution_count": 29,
   "metadata": {},
   "outputs": [
    {
     "name": "stdout",
     "output_type": "stream",
     "text": [
      "Epoch: 0 -> train_loss: 1.63252, val_loss: 1.64962,  val_acc: 81.08%\n",
      "Epoch: 1 -> train_loss: 1.63161, val_loss: 1.65042,  val_acc: 81.04%\n",
      "Epoch: 2 -> train_loss: 1.63017, val_loss: 1.65055,  val_acc: 81.10%\n",
      "Epoch: 3 -> train_loss: 1.62930, val_loss: 1.64836,  val_acc: 81.28%\n",
      "Epoch: 4 -> train_loss: 1.62841, val_loss: 1.64897,  val_acc: 81.21%\n",
      "Epoch: 5 -> train_loss: 1.62736, val_loss: 1.64939,  val_acc: 81.08%\n",
      "Epoch: 6 -> train_loss: 1.62690, val_loss: 1.64962,  val_acc: 81.16%\n",
      "Epoch: 7 -> train_loss: 1.62593, val_loss: 1.64670,  val_acc: 81.46%\n",
      "Epoch: 8 -> train_loss: 1.62581, val_loss: 1.64804,  val_acc: 81.34%\n",
      "Epoch: 9 -> train_loss: 1.62509, val_loss: 1.64652,  val_acc: 81.32%\n",
      "Epoch: 10 -> train_loss: 1.62470, val_loss: 1.64759,  val_acc: 81.24%\n",
      "Epoch: 11 -> train_loss: 1.62412, val_loss: 1.64862,  val_acc: 81.14%\n",
      "Epoch: 12 -> train_loss: 1.62520, val_loss: 1.64714,  val_acc: 81.34%\n",
      "Epoch: 13 -> train_loss: 1.62315, val_loss: 1.64782,  val_acc: 81.36%\n",
      "Epoch: 14 -> train_loss: 1.62306, val_loss: 1.64735,  val_acc: 81.38%\n",
      "Epoch: 15 -> train_loss: 1.62319, val_loss: 1.64876,  val_acc: 81.21%\n",
      "Epoch: 16 -> train_loss: 1.62245, val_loss: 1.64676,  val_acc: 81.50%\n",
      "Epoch: 17 -> train_loss: 1.62209, val_loss: 1.64807,  val_acc: 81.29%\n",
      "Epoch: 18 -> train_loss: 1.62141, val_loss: 1.64647,  val_acc: 81.39%\n",
      "Epoch: 19 -> train_loss: 1.62021, val_loss: 1.64543,  val_acc: 81.56%\n",
      "Epoch: 20 -> train_loss: 1.61914, val_loss: 1.64687,  val_acc: 81.34%\n",
      "Epoch: 21 -> train_loss: 1.61903, val_loss: 1.64615,  val_acc: 81.50%\n",
      "Epoch: 22 -> train_loss: 1.61900, val_loss: 1.64699,  val_acc: 81.30%\n",
      "Epoch: 23 -> train_loss: 1.61880, val_loss: 1.64428,  val_acc: 81.74%\n",
      "Epoch: 24 -> train_loss: 1.61748, val_loss: 1.64574,  val_acc: 81.57%\n"
     ]
    },
    {
     "data": {
      "image/png": "[encoded data removed]",
      "text/plain": [
       "<Figure size 432x288 with 1 Axes>"
      ]
     },
     "metadata": {
      "needs_background": "light"
     },
     "output_type": "display_data"
    }
   ],
   "source": [
    "train_test(model, loss_fn, optimizer, train_dl, test_dl, device)"
   ]
  },
  {
   "cell_type": "code",
   "execution_count": null,
   "metadata": {},
   "outputs": [],
   "source": []
  }
 ],
 "metadata": {
  "interpreter": {
   "hash": "b081a66ee97bd2b6a16f43955f1d810b7ea816d6eaeb65e157ef9e038445f0c6"
  },
  "kernelspec": {
   "display_name": "Python 3.8.7 64-bit",
   "language": "python",
   "name": "python3"
  },
  "language_info": {
   "codemirror_mode": {
    "name": "ipython",
    "version": 3
   },
   "file_extension": ".py",
   "mimetype": "text/x-python",
   "name": "python",
   "nbconvert_exporter": "python",
   "pygments_lexer": "ipython3",
   "version": "3.8.7"
  },
  "orig_nbformat": 4
 },
 "nbformat": 4,
 "nbformat_minor": 2
}
